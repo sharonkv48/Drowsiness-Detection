{
 "cells": [
  {
   "cell_type": "code",
   "execution_count": 1,
   "metadata": {},
   "outputs": [],
   "source": [
    "import os\n",
    "import shutil\n",
    "import glob\n",
    "from tqdm import tqdm"
   ]
  },
  {
   "cell_type": "code",
   "execution_count": 2,
   "metadata": {},
   "outputs": [],
   "source": [
    "Raw_DIR = r'C:\\Users\\sharo\\projectsXD\\ProjectsLetsFuckitUp\\Drowsiness Detection\\mrlEyes_2018_01'"
   ]
  },
  {
   "cell_type": "code",
   "execution_count": 4,
   "metadata": {},
   "outputs": [
    {
     "name": "stderr",
     "output_type": "stream",
     "text": [
      "0it [00:00, ?it/s]\n",
      "100%|██████████| 3242/3242 [00:11<00:00, 287.63it/s]\n",
      "100%|██████████| 1114/1114 [00:04<00:00, 259.88it/s]\n",
      "100%|██████████| 679/679 [00:02<00:00, 240.22it/s]\n",
      "100%|██████████| 1069/1069 [00:02<00:00, 414.12it/s]\n",
      "100%|██████████| 736/736 [00:01<00:00, 397.23it/s]\n",
      "100%|██████████| 1012/1012 [00:04<00:00, 216.75it/s]\n",
      "100%|██████████| 624/624 [00:01<00:00, 402.60it/s]\n",
      "100%|██████████| 832/832 [00:02<00:00, 412.69it/s]\n",
      "100%|██████████| 387/387 [00:00<00:00, 434.46it/s]\n",
      "100%|██████████| 399/399 [00:01<00:00, 228.78it/s]\n",
      "100%|██████████| 1648/1648 [00:05<00:00, 307.63it/s]\n",
      "100%|██████████| 8728/8728 [00:23<00:00, 368.74it/s]\n",
      "100%|██████████| 3605/3605 [00:10<00:00, 350.29it/s]\n",
      "100%|██████████| 6388/6388 [00:17<00:00, 363.36it/s]\n"
     ]
    }
   ],
   "source": [
    "for dirpath, dirname, filenames in os.walk(Raw_DIR):\n",
    "    for i in tqdm([f for f in filenames if f.endswith('png')]):\n",
    "        if i.split('_')[4]=='0':\n",
    "            shutil.copy(src=dirpath+'/'+i, dst =r'C:\\Users\\sharo\\projectsXD\\ProjectsLetsFuckitUp\\Drowsiness Detection\\prepared_data\\closed eyes' )\n",
    "\n",
    "        elif i.split('_')[4]=='1':\n",
    "            shutil.copy(src=dirpath+'/'+ i, dst=r'C:\\Users\\sharo\\projectsXD\\ProjectsLetsFuckitUp\\Drowsiness Detection\\prepared_data\\open eyes')\n"
   ]
  },
  {
   "cell_type": "code",
   "execution_count": null,
   "metadata": {},
   "outputs": [],
   "source": []
  }
 ],
 "metadata": {
  "kernelspec": {
   "display_name": "Python 3",
   "language": "python",
   "name": "python3"
  },
  "language_info": {
   "codemirror_mode": {
    "name": "ipython",
    "version": 3
   },
   "file_extension": ".py",
   "mimetype": "text/x-python",
   "name": "python",
   "nbconvert_exporter": "python",
   "pygments_lexer": "ipython3",
   "version": "3.9.12"
  },
  "orig_nbformat": 4,
  "vscode": {
   "interpreter": {
    "hash": "7990fdcc90fac26b8969a4e55f8972211bbbd008c3fbeaefea4e64e3214ec0c1"
   }
  }
 },
 "nbformat": 4,
 "nbformat_minor": 2
}
